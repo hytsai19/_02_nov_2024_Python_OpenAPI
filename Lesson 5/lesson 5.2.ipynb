{
 "cells": [
  {
   "cell_type": "code",
   "execution_count": 1,
   "metadata": {},
   "outputs": [
    {
     "data": {
      "text/plain": [
       "([1, 2, 3, 4, 5, 6, 7, 8, 9], list)"
      ]
     },
     "execution_count": 1,
     "metadata": {},
     "output_type": "execute_result"
    }
   ],
   "source": [
    "#list\n",
    "numbers:list = list(range(1,10))\n",
    "numbers, type(numbers)"
   ]
  },
  {
   "cell_type": "markdown",
   "metadata": {},
   "source": [
    "#Python內建資料結構:\n",
    "1. list\n",
    "2. dict(dictionary)\n",
    "3. set"
   ]
  },
  {
   "cell_type": "code",
   "execution_count": 2,
   "metadata": {},
   "outputs": [
    {
     "data": {
      "text/plain": [
       "([], list)"
      ]
     },
     "execution_count": 2,
     "metadata": {},
     "output_type": "execute_result"
    }
   ],
   "source": [
    "numbers1:list = list()\n",
    "numbers1, type(numbers1)\n",
    "#list的特性\n",
    "#1. 可以排序\n",
    "#2. 可以搜尋\n",
    "#3. 索引編號"
   ]
  },
  {
   "cell_type": "code",
   "execution_count": 3,
   "metadata": {},
   "outputs": [
    {
     "data": {
      "text/plain": [
       "(1, 10, 100)"
      ]
     },
     "execution_count": 3,
     "metadata": {},
     "output_type": "execute_result"
    }
   ],
   "source": [
    "numbers2 = [1, 10, 100, 127, 91, 85]\n",
    "numbers2, len(numbers2)\n",
    "numbers2[0], numbers2[1] , numbers2[2]\n",
    "#numbers2[3]\n",
    "#tuple 小括號/小資料類型, 暫時將多個資料包裝起來\n",
    "#[]為subscript"
   ]
  },
  {
   "cell_type": "code",
   "execution_count": 4,
   "metadata": {},
   "outputs": [
    {
     "data": {
      "text/plain": [
       "127"
      ]
     },
     "execution_count": 4,
     "metadata": {},
     "output_type": "execute_result"
    }
   ],
   "source": [
    "max = None\n",
    "for element in numbers2:\n",
    "    if max is None:\n",
    "        max = element\n",
    "    elif max < element:    \n",
    "        max = element\n",
    "max"
   ]
  },
  {
   "cell_type": "code",
   "execution_count": 5,
   "metadata": {},
   "outputs": [],
   "source": [
    "max = numbers2[0]\n",
    "for element in numbers2:\n",
    "    if max < element:\n",
    "        max = element"
   ]
  }
 ],
 "metadata": {
  "kernelspec": {
   "display_name": "base",
   "language": "python",
   "name": "python3"
  },
  "language_info": {
   "codemirror_mode": {
    "name": "ipython",
    "version": 3
   },
   "file_extension": ".py",
   "mimetype": "text/x-python",
   "name": "python",
   "nbconvert_exporter": "python",
   "pygments_lexer": "ipython3",
   "version": "3.12.2"
  }
 },
 "nbformat": 4,
 "nbformat_minor": 2
}
