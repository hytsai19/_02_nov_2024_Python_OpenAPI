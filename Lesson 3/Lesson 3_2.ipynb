{
 "cells": [
  {
   "cell_type": "code",
   "execution_count": 1,
   "metadata": {},
   "outputs": [
    {
     "name": "stdout",
     "output_type": "stream",
     "text": [
      "12\n",
      "===========猜數字遊戲=============\n",
      "\n",
      "再大一點\n",
      "您已經猜了1次\n",
      "賓果!猜對了, 答案是:12\n",
      "您猜了2次\n",
      "應用程式結束\n"
     ]
    }
   ],
   "source": [
    "import random\n",
    "min = 1\n",
    "max = 100\n",
    "target = random.randint(min, max)\n",
    "count = 0\n",
    "print(target)\n",
    "print(\"===========猜數字遊戲=============\\n\")\n",
    "while(True):\n",
    "    keyin = int(input(f\"猜數字範圍{min}~{max}:\"))\n",
    "    count += 1\n",
    "    if keyin <= max and keyin >= min:\n",
    "        if target == keyin:\n",
    "            print(f\"賓果!猜對了, 答案是:{target}\")\n",
    "            print(f\"您猜了{count}次\")\n",
    "            break\n",
    "        elif keyin > target:\n",
    "            print('再小一點')\n",
    "            max = keyin-1\n",
    "            \n",
    "        elif keyin < target:\n",
    "            print('再大一點')\n",
    "            min = keyin + 1\n",
    "            \n",
    "        print(f'您已經猜了{count}次')        \n",
    "            \n",
    "    else:\n",
    "        print(\"輸入範圍有錯誤!\")\n",
    "    answering = input(\"請問還要繼續嗎?(y,n)\")\n",
    "    if answering == \"n\":\n",
    "        break        \n",
    "print(\"應用程式結束\")"
   ]
  },
  {
   "cell_type": "code",
   "execution_count": 5,
   "metadata": {},
   "outputs": [
    {
     "name": "stdout",
     "output_type": "stream",
     "text": [
      "68\n",
      "===========猜數字遊戲=============\n",
      "\n",
      "您已經猜了1次\n",
      "賓果!猜對了, 答案是:68\n",
      "您猜了2次\n"
     ]
    }
   ],
   "source": [
    "import random\n",
    "def play_game():\n",
    "    min = 1\n",
    "    max = 100\n",
    "    target = random.randint(min, max)\n",
    "    count = 0\n",
    "    print(target)\n",
    "    print(\"===========猜數字遊戲=============\\n\")\n",
    "    while(True):\n",
    "        keyin = int(input(f\"猜數字範圍{min}~{max}:\"))\n",
    "        count += 1\n",
    "        if keyin <= max and keyin >= min:\n",
    "            if target == keyin:\n",
    "                print(f\"賓果!猜對了, 答案是:{target}\")\n",
    "                print(f\"您猜了{count}次\")\n",
    "                break\n",
    "        elif keyin > target:\n",
    "            print('再小一點')\n",
    "            max = keyin-1\n",
    "            \n",
    "        elif keyin < target:\n",
    "            print('再大一點')\n",
    "            min = keyin + 1\n",
    "            \n",
    "        print(f'您已經猜了{count}次')        \n",
    "            \n",
    "    else:\n",
    "        print(\"輸入範圍有錯誤!\")\n",
    "\n",
    "while (True):\n",
    "        play_game()\n",
    "        answering = input(\"請問還要繼續嗎?(y,n)\")\n",
    "        if answering == \"n\":\n",
    "            break"
   ]
  },
  {
   "cell_type": "markdown",
   "metadata": {},
   "source": [
    "計算三角形斜邊的畢氏定理"
   ]
  },
  {
   "cell_type": "code",
   "execution_count": 9,
   "metadata": {},
   "outputs": [
    {
     "data": {
      "text/plain": [
       "136.12494260788506"
      ]
     },
     "execution_count": 9,
     "metadata": {},
     "output_type": "execute_result"
    }
   ],
   "source": [
    "import math\n",
    "def theorem (side:float, another_side:float) -> float:\n",
    "    return math.sqrt(side**2 + another_side**2)\n",
    "\n",
    "theorem (103,89)"
   ]
  },
  {
   "cell_type": "markdown",
   "metadata": {},
   "source": [
    "浮點數(float)：用來表示帶有小數點的數字"
   ]
  },
  {
   "cell_type": "code",
   "execution_count": 12,
   "metadata": {},
   "outputs": [],
   "source": [
    "def menu(wine:str, entree:str, dessert:str):\n",
    "    print(f\"酒類:{wine}\")\n",
    "    print(f\"主餐:{entree}\")\n",
    "    print(f\"點心:{dessert}\")"
   ]
  },
  {
   "cell_type": "code",
   "execution_count": 13,
   "metadata": {},
   "outputs": [
    {
     "name": "stdout",
     "output_type": "stream",
     "text": [
      "酒類:白酒\n",
      "主餐:牛排\n",
      "點心:蛋糕\n"
     ]
    }
   ],
   "source": [
    "#引數值的呼叫->依據參數的順序\n",
    "menu (\"白酒\",\"牛排\",\"蛋糕\")"
   ]
  },
  {
   "cell_type": "code",
   "execution_count": 14,
   "metadata": {},
   "outputs": [
    {
     "name": "stdout",
     "output_type": "stream",
     "text": [
      "酒類:白酒\n",
      "主餐:牛排\n",
      "點心:蛋糕\n",
      "=================\n",
      "酒類:白酒\n",
      "主餐:牛排\n",
      "點心:蛋糕\n"
     ]
    }
   ],
   "source": [
    "#引數名稱的呼叫->可以不依據順序\n",
    "#引數名稱是使用參數的名稱\n",
    "menu(wine='白酒',entree='牛排',dessert='蛋糕')\n",
    "print(\"=================\")\n",
    "menu(entree='牛排',dessert='蛋糕',wine='白酒')"
   ]
  }
 ],
 "metadata": {
  "kernelspec": {
   "display_name": "base",
   "language": "python",
   "name": "python3"
  },
  "language_info": {
   "codemirror_mode": {
    "name": "ipython",
    "version": 3
   },
   "file_extension": ".py",
   "mimetype": "text/x-python",
   "name": "python",
   "nbconvert_exporter": "python",
   "pygments_lexer": "ipython3",
   "version": "3.12.3"
  }
 },
 "nbformat": 4,
 "nbformat_minor": 2
}
