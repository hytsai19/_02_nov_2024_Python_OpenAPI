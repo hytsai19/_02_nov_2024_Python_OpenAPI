{
 "cells": [
  {
   "cell_type": "code",
   "execution_count": 1,
   "metadata": {},
   "outputs": [
    {
     "name": "stdout",
     "output_type": "stream",
     "text": [
      "12\n",
      "===========猜數字遊戲=============\n",
      "\n",
      "再大一點\n",
      "您已經猜了1次\n",
      "賓果!猜對了, 答案是:12\n",
      "您猜了2次\n",
      "應用程式結束\n"
     ]
    }
   ],
   "source": [
    "import random\n",
    "min = 1\n",
    "max = 100\n",
    "target = random.randint(min, max)\n",
    "count = 0\n",
    "print(target)\n",
    "print(\"===========猜數字遊戲=============\\n\")\n",
    "while(True):\n",
    "    keyin = int(input(f\"猜數字範圍{min}~{max}:\"))\n",
    "    count += 1\n",
    "    if keyin <= max and keyin >= min:\n",
    "        if target == keyin:\n",
    "            print(f\"賓果!猜對了, 答案是:{target}\")\n",
    "            print(f\"您猜了{count}次\")\n",
    "            break\n",
    "        elif keyin > target:\n",
    "            print('再小一點')\n",
    "            max = keyin-1\n",
    "            \n",
    "        elif keyin < target:\n",
    "            print('再大一點')\n",
    "            min = keyin + 1\n",
    "            \n",
    "        print(f'您已經猜了{count}次')        \n",
    "            \n",
    "    else:\n",
    "        print(\"輸入範圍有錯誤!\")\n",
    "    answering = input(\"請問還要繼續嗎?(y,n)\")\n",
    "    if answering == \"n\":\n",
    "        break        \n",
    "print(\"應用程式結束\")"
   ]
  },
  {
   "cell_type": "code",
   "execution_count": 5,
   "metadata": {},
   "outputs": [
    {
     "name": "stdout",
     "output_type": "stream",
     "text": [
      "68\n",
      "===========猜數字遊戲=============\n",
      "\n",
      "您已經猜了1次\n",
      "賓果!猜對了, 答案是:68\n",
      "您猜了2次\n"
     ]
    }
   ],
   "source": [
    "import random\n",
    "def play_game():\n",
    "    min = 1\n",
    "    max = 100\n",
    "    target = random.randint(min, max)\n",
    "    count = 0\n",
    "    print(target)\n",
    "    print(\"===========猜數字遊戲=============\\n\")\n",
    "    while(True):\n",
    "        keyin = int(input(f\"猜數字範圍{min}~{max}:\"))\n",
    "        count += 1\n",
    "        if keyin <= max and keyin >= min:\n",
    "            if target == keyin:\n",
    "                print(f\"賓果!猜對了, 答案是:{target}\")\n",
    "                print(f\"您猜了{count}次\")\n",
    "                break\n",
    "        elif keyin > target:\n",
    "            print('再小一點')\n",
    "            max = keyin-1\n",
    "            \n",
    "        elif keyin < target:\n",
    "            print('再大一點')\n",
    "            min = keyin + 1\n",
    "            \n",
    "        print(f'您已經猜了{count}次')        \n",
    "            \n",
    "    else:\n",
    "        print(\"輸入範圍有錯誤!\")\n",
    "\n",
    "while (True):\n",
    "        play_game()\n",
    "        answering = input(\"請問還要繼續嗎?(y,n)\")\n",
    "        if answering == \"n\":\n",
    "            break"
   ]
  },
  {
   "cell_type": "markdown",
   "metadata": {},
   "source": [
    "計算三角形斜邊的畢氏定理"
   ]
  },
  {
   "cell_type": "code",
   "execution_count": 9,
   "metadata": {},
   "outputs": [
    {
     "data": {
      "text/plain": [
       "136.12494260788506"
      ]
     },
     "execution_count": 9,
     "metadata": {},
     "output_type": "execute_result"
    }
   ],
   "source": [
    "import math\n",
    "def theorem (side:float, another_side:float) -> float:\n",
    "    return math.sqrt(side**2 + another_side**2)\n",
    "\n",
    "theorem (103,89)"
   ]
  },
  {
   "cell_type": "markdown",
   "metadata": {},
   "source": [
    "浮點數(float)：用來表示帶有小數點的數字"
   ]
  },
  {
   "cell_type": "code",
   "execution_count": 12,
   "metadata": {},
   "outputs": [],
   "source": [
    "def menu(wine:str, entree:str, dessert:str):\n",
    "    print(f\"酒類:{wine}\")\n",
    "    print(f\"主餐:{entree}\")\n",
    "    print(f\"點心:{dessert}\")"
   ]
  },
  {
   "cell_type": "code",
   "execution_count": 13,
   "metadata": {},
   "outputs": [
    {
     "name": "stdout",
     "output_type": "stream",
     "text": [
      "酒類:白酒\n",
      "主餐:牛排\n",
      "點心:蛋糕\n"
     ]
    }
   ],
   "source": [
    "#引數值的呼叫->依據參數的順序\n",
    "menu (\"白酒\",\"牛排\",\"蛋糕\")"
   ]
  },
  {
   "cell_type": "code",
   "execution_count": 16,
   "metadata": {},
   "outputs": [
    {
     "name": "stdout",
     "output_type": "stream",
     "text": [
      "酒類:白酒\n",
      "主餐:牛排\n",
      "點心:蛋糕\n",
      "=================\n",
      "酒類:白酒\n",
      "主餐:牛排\n",
      "點心:蛋糕\n"
     ]
    }
   ],
   "source": [
    "#引數名稱的呼叫->可以不依據順序\n",
    "#引數名稱是使用參數的名稱\n",
    "menu(wine='白酒',entree='牛排',dessert='蛋糕')\n",
    "print(\"=================\")\n",
    "menu(entree='牛排',dessert='蛋糕',wine='白酒')"
   ]
  },
  {
   "cell_type": "code",
   "execution_count": null,
   "metadata": {},
   "outputs": [
    {
     "name": "stdout",
     "output_type": "stream",
     "text": [
      "酒類:白酒\n",
      "主餐:牛排\n",
      "點心:蛋糕\n"
     ]
    }
   ],
   "source": [
    "#混合呼叫\n",
    "#前面使用引數值的呼叫(一定要照順序)\n",
    "#後面使用引數名稱的呼叫\n",
    "#使用引數名稱呼叫後,後面全部要使用引數名稱呼叫\n",
    "\n",
    "menu(\"白酒\", dessert=\"蛋糕\",entree=\"牛排\")\n"
   ]
  },
  {
   "cell_type": "code",
   "execution_count": 23,
   "metadata": {},
   "outputs": [
    {
     "name": "stdout",
     "output_type": "stream",
     "text": [
      "酒類:白酒\n",
      "主餐:牛排\n",
      "點心:奶昔\n",
      "=====================\n",
      "酒類:白酒\n",
      "主餐:牛排\n",
      "點心:蛋糕\n"
     ]
    }
   ],
   "source": [
    "#指定預設參數的值(按規則必須寫在最後面)\n",
    "def menu(wine:str, entree:str, dessert:str=\"奶昔\"):\n",
    "    print(f\"酒類:{wine}\")\n",
    "    print(f\"主餐:{entree}\")\n",
    "    print(f\"點心:{dessert}\")\n",
    "\n",
    "menu(\"白酒\",\"牛排\")\n",
    "print(\"=====================\")\n",
    "menu(\"白酒\", \"牛排\", dessert=\"蛋糕\")\n",
    "#若有預設值就用引數名稱呼叫"
   ]
  },
  {
   "cell_type": "code",
   "execution_count": null,
   "metadata": {},
   "outputs": [
    {
     "name": "stdout",
     "output_type": "stream",
     "text": [
      "()\n",
      "(1, 2, 3, 'a', 'b', 'c', 3.5, 9.8)\n"
     ]
    }
   ],
   "source": [
    "# * 沒有限定數量的引數值呼叫(表示零也可以)\n",
    "def print_args(*args):\n",
    "    print(args)\n",
    "\n",
    "print_args()\n",
    "print_args(1,2,3,\"a\",\"b\",\"c\", 3.5, 9.8)"
   ]
  },
  {
   "cell_type": "code",
   "execution_count": 27,
   "metadata": {},
   "outputs": [
    {
     "name": "stdout",
     "output_type": "stream",
     "text": [
      "{'one': 1, 'two': 2, 'three': 3}\n",
      "===================================\n",
      "{}\n"
     ]
    }
   ],
   "source": [
    "# ** 沒有限定數量的引數名稱呼叫\n",
    "def print_kwargs(**kwargs):\n",
    "    print(kwargs)\n",
    "\n",
    "print_kwargs(one=1, two=2, three=3)\n",
    "print(\"===================================\")\n",
    "print_kwargs()"
   ]
  },
  {
   "cell_type": "code",
   "execution_count": 28,
   "metadata": {},
   "outputs": [
    {
     "name": "stdout",
     "output_type": "stream",
     "text": [
      "==============\n",
      "\n",
      "\n",
      "\n",
      "==============\n"
     ]
    }
   ],
   "source": [
    "print(\"==============\")\n",
    "print()\n",
    "print()\n",
    "print()\n",
    "print(\"==============\")"
   ]
  },
  {
   "cell_type": "code",
   "execution_count": 34,
   "metadata": {},
   "outputs": [
    {
     "name": "stdout",
     "output_type": "stream",
     "text": [
      "1-2-3-4-a-b-c.\n"
     ]
    }
   ],
   "source": [
    "print(1, 2, 3, 4, 'a', 'b', 'c',end='.\\n', sep='-')"
   ]
  },
  {
   "cell_type": "code",
   "execution_count": null,
   "metadata": {},
   "outputs": [],
   "source": [
    "#「sep」代表了英文的separate，也就是分開的意思。 因此，這段文字就是在告訴電腦： 印出a 和b 兩個變數，並且以「|」將變數之間區隔。\n",
    "#input(prompt)只能放一個參數, 與print()不同"
   ]
  }
 ],
 "metadata": {
  "kernelspec": {
   "display_name": "base",
   "language": "python",
   "name": "python3"
  },
  "language_info": {
   "codemirror_mode": {
    "name": "ipython",
    "version": 3
   },
   "file_extension": ".py",
   "mimetype": "text/x-python",
   "name": "python",
   "nbconvert_exporter": "python",
   "pygments_lexer": "ipython3",
   "version": "3.12.3"
  }
 },
 "nbformat": 4,
 "nbformat_minor": 2
}
