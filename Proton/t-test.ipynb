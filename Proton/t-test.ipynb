{
 "cells": [
  {
   "cell_type": "code",
   "execution_count": 1,
   "metadata": {},
   "outputs": [
    {
     "name": "stdout",
     "output_type": "stream",
     "text": [
      "t-Statistic: 4.816230728627165\n",
      "p-Value: 0.0004246745924567088\n"
     ]
    }
   ],
   "source": [
    "import numpy as np\n",
    "from scipy import stats\n",
    "# Data\n",
    "spam_links = np.array([3, 5, 6, 8, 4, 7, 6, 5])\n",
    "non_spam_links = np.array([1, 2, 3, 2, 4, 3, 2, 1])\n",
    "\n",
    "# Perform t-test\n",
    "t_stat, p_value = stats.ttest_ind(spam_links, non_spam_links, equal_var=False)  # Welch's t-test\n",
    "\n",
    "print(f\"t-Statistic: {t_stat}\")\n",
    "print(f\"p-Value: {p_value}\")"
   ]
  }
 ],
 "metadata": {
  "kernelspec": {
   "display_name": "base",
   "language": "python",
   "name": "python3"
  },
  "language_info": {
   "codemirror_mode": {
    "name": "ipython",
    "version": 3
   },
   "file_extension": ".py",
   "mimetype": "text/x-python",
   "name": "python",
   "nbconvert_exporter": "python",
   "pygments_lexer": "ipython3",
   "version": "3.12.7"
  }
 },
 "nbformat": 4,
 "nbformat_minor": 2
}
