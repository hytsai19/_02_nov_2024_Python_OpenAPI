{
 "cells": [
  {
   "cell_type": "code",
   "execution_count": 5,
   "metadata": {},
   "outputs": [
    {
     "name": "stdout",
     "output_type": "stream",
     "text": [
      "hello\n"
     ]
    }
   ],
   "source": [
    "print(\"hello\")"
   ]
  },
  {
   "cell_type": "code",
   "execution_count": 29,
   "metadata": {},
   "outputs": [
    {
     "name": "stdout",
     "output_type": "stream",
     "text": [
      "本期大樂透電腦選號號碼如下:\n",
      "7 8 21 28 36 39 13 \n",
      "特別號:13\n"
     ]
    }
   ],
   "source": [
    "import random\n",
    "\n",
    "def main():\n",
    "    set1:set = set()\n",
    "    #set不能排序, 沒有key\n",
    "    #:後為型別提醒, 要知道型別是什麼才能在python內建型別說明書查資料\n",
    "\n",
    "    while len(set1) < 7:\n",
    "        myrandNum=random.randint(1,49)\n",
    "        set1.add(myrandNum)\n",
    "        if len(set1) == 7:\n",
    "            SpecialNum = myrandNum\n",
    "            set1.remove(SpecialNum)\n",
    "            mysetlist = sorted(set1)\n",
    "            break\n",
    "\n",
    "    mysetlist.append(SpecialNum)\n",
    "\n",
    "    print(\"本期大樂透電腦選號號碼如下:\")\n",
    "    for num in mysetlist:\n",
    "            print(num,end=\" \")\n",
    "    print() \n",
    "    print(f\"特別號:{SpecialNum}\")\n",
    "\n",
    "\n",
    "if __name__ == '__main__':\n",
    "    main()\n",
    "#main function程式區塊\n",
    "\n",
    "\n"
   ]
  }
 ],
 "metadata": {
  "kernelspec": {
   "display_name": "Python 3",
   "language": "python",
   "name": "python3"
  },
  "language_info": {
   "codemirror_mode": {
    "name": "ipython",
    "version": 3
   },
   "file_extension": ".py",
   "mimetype": "text/x-python",
   "name": "python",
   "nbconvert_exporter": "python",
   "pygments_lexer": "ipython3",
   "version": "3.11.9"
  }
 },
 "nbformat": 4,
 "nbformat_minor": 2
}
