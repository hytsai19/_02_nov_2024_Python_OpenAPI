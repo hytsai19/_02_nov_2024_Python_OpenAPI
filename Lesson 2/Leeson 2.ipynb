{
 "cells": [
  {
   "cell_type": "code",
   "execution_count": 1,
   "metadata": {},
   "outputs": [
    {
     "name": "stdout",
     "output_type": "stream",
     "text": [
      "helllo Python\n"
     ]
    }
   ],
   "source": [
    "print(\"helllo Python\")"
   ]
  },
  {
   "cell_type": "code",
   "execution_count": 5,
   "metadata": {},
   "outputs": [
    {
     "name": "stdout",
     "output_type": "stream",
     "text": [
      "adult\n",
      "qualified for acquiring driver's license\n",
      "end of the application\n"
     ]
    }
   ],
   "source": [
    "age = 60\n",
    "if age <= 18:\n",
    "    print(\"non-adult\")\n",
    "    print(\"not qualified for acquiring driver's license\")\n",
    "else:\n",
    "    print(\"adult\")\n",
    "    print(\"qualified for acquiring driver's license\")\n",
    "print(\"end of the application\")"
   ]
  }
 ],
 "metadata": {
  "kernelspec": {
   "display_name": "base",
   "language": "python",
   "name": "python3"
  },
  "language_info": {
   "codemirror_mode": {
    "name": "ipython",
    "version": 3
   },
   "file_extension": ".py",
   "mimetype": "text/x-python",
   "name": "python",
   "nbconvert_exporter": "python",
   "pygments_lexer": "ipython3",
   "version": "3.12.2"
  }
 },
 "nbformat": 4,
 "nbformat_minor": 2
}
