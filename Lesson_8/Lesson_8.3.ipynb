{
 "cells": [
  {
   "cell_type": "code",
   "execution_count": null,
   "metadata": {},
   "outputs": [],
   "source": [
    "from tools import fetch_youbike_data\n",
    "import pandas as pd\n",
    "\n",
    "youbike_data:list[dict] = fetch_youbike_data()\n",
    "filter_data = [station for station in youbike_data if station['sarea'] == '八里區']\n",
    "df = pd.DataFrame(filter_data)\n"
   ]
  }
 ],
 "metadata": {
  "kernelspec": {
   "display_name": "Python 3",
   "language": "python",
   "name": "python3"
  },
  "language_info": {
   "name": "python",
   "version": "3.12.8"
  }
 },
 "nbformat": 4,
 "nbformat_minor": 2
}
